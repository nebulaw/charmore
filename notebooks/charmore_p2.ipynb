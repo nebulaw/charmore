{
 "cells": [
  {
   "cell_type": "code",
   "execution_count": null,
   "id": "ecc4ef9b-e644-497e-887b-ffe40fa90c5a",
   "metadata": {},
   "outputs": [],
   "source": [
    "import random\n",
    "import os\n",
    "import torch\n",
    "import torch.nn.functional as F\n",
    "import matplotlib.pyplot as plt\n",
    "%matplotlib inline"
   ]
  },
  {
   "cell_type": "code",
   "execution_count": null,
   "id": "6c09026b-9f8e-4dc5-95d9-6ab2fde954fa",
   "metadata": {},
   "outputs": [],
   "source": [
    "def read_words(file_path):\n",
    "    def clean(word):\n",
    "        return ''.join(filter(str.isalpha, word)).lower()\n",
    "    with open(file_path, 'r') as file:\n",
    "        words = [ clean(word) for word in file.read().splitlines() ]\n",
    "        file.close()\n",
    "    return words        \n",
    "\n",
    "def read_data_from_dir(data_dir):\n",
    "    words = []\n",
    "    for file_path in os.listdir(data_dir):\n",
    "        words.extend(read_words(data_dir + \"/\" + file_path))\n",
    "    return words"
   ]
  },
  {
   "cell_type": "code",
   "execution_count": null,
   "id": "6b196e87-8ff0-4d92-8d7a-879bd77615e7",
   "metadata": {},
   "outputs": [],
   "source": [
    "### initializing dataset\n",
    "data_path = '../data'\n",
    "S = read_data_from_dir(data_path)"
   ]
  },
  {
   "cell_type": "code",
   "execution_count": null,
   "id": "5a75826f-23df-43c3-bfca-2ac7e521431f",
   "metadata": {},
   "outputs": [],
   "source": [
    "### set vocabulary mappings\n",
    "chars = sorted(list(set(''.join(S))))\n",
    "stoi = { s: i + 1 for i, s in enumerate(chars) }\n",
    "stoi['.'] = 0\n",
    "itos = { i: s for s, i in stoi.items() }\n",
    "len(itos), len(stoi)"
   ]
  },
  {
   "cell_type": "code",
   "execution_count": null,
   "id": "725f8149-babc-427c-b9a2-2b38f9870728",
   "metadata": {},
   "outputs": [],
   "source": [
    "random.seed(42069)\n",
    "random.shuffle(S)\n",
    "len(S)"
   ]
  },
  {
   "cell_type": "code",
   "execution_count": null,
   "id": "8ad20f17-9a42-43fc-a93e-62f43542a01d",
   "metadata": {},
   "outputs": [],
   "source": [
    "# These are hyper parameters I extracted from the lecture part\n",
    "nneurons = 100 # number of neurons in hidden layer\n",
    "vocab_size = len(stoi) # this is vocabulary size\n",
    "block_size = 3 # this is how much will there be in each context\n",
    "emb_size = 10 # this is how we will embed contexts\n",
    "batch_size = 128 # for minibatch"
   ]
  },
  {
   "cell_type": "code",
   "execution_count": null,
   "id": "3dd65603-80cf-4aa4-86df-19816c4706b5",
   "metadata": {},
   "outputs": [],
   "source": [
    "### build dataset\n",
    "def build_dataset(words):\n",
    "    X, Y = [], []\n",
    "    for word in words:\n",
    "        context = [0] * block_size\n",
    "        for ch in word + '.':\n",
    "            ix = stoi[ch]\n",
    "            X.append(context)\n",
    "            Y.append(ix)\n",
    "            context = context[1:] + [ix]\n",
    "    X = torch.tensor(X)\n",
    "    Y = torch.tensor(Y)\n",
    "    return X, Y\n",
    "\n",
    "n1 = int(0.8 * len(S))\n",
    "n2 = int(0.9 * len(S))\n",
    "X_train, y_train = build_dataset(S[:n1])\n",
    "X_dev, y_dev = build_dataset(S[n1:n2])\n",
    "X_test, y_test = build_dataset(S[n2:])\n",
    "\n",
    "print(f'---- training set ----')\n",
    "print(f'input shape: {X_train.shape}')\n",
    "print(f'label shape: {y_train.shape}')\n",
    "print(f'total samples: {X_train.shape[0]}')\n",
    "print(f'---- validation set ----')\n",
    "print(f'input shape: {X_dev.shape}')\n",
    "print(f'label shape: {y_dev.shape}')\n",
    "print(f'total samples: {X_dev.shape[0]}')\n",
    "print(f'---- testing set ----')\n",
    "print(f'input shape: {X_test.shape}')\n",
    "print(f'label shape: {y_test.shape}')\n",
    "print(f'total samples: {X_test.shape[0]}')"
   ]
  },
  {
   "cell_type": "code",
   "execution_count": null,
   "id": "a91a6a3a-dda4-4842-8055-e0b77ab0edfe",
   "metadata": {},
   "outputs": [],
   "source": [
    "### neural network layers\n",
    "g = torch.Generator().manual_seed(42069)\n",
    "# this is lookup table\n",
    "C = torch.randn((vocab_size, emb_size), generator=g)\n",
    "W1 = torch.randn((block_size * emb_size, nneurons), generator=g) * 5 / 3 * \n",
    "b1 = torch.randn(nneurons, generator=g)\n",
    "# this is output layer\n",
    "W2 = torch.randn((nneurons, vocab_size), generator=g)\n",
    "b2 = torch.randn(vocab_size, generator=g)\n",
    "params = [C, W1, b1, W2, b2]\n",
    "for p in params:\n",
    "    p.requires_grad = True\n",
    "\n",
    "nparams = sum(p.nelement() for p in params)\n",
    "print(f'---- neural network ----')\n",
    "print(f'number of parameters: {nparams}')"
   ]
  },
  {
   "cell_type": "code",
   "execution_count": null,
   "id": "e28cb612-9baa-4cde-8bf1-e01018bd2afa",
   "metadata": {},
   "outputs": [],
   "source": [
    "### for tracking stats and tweaking learning rate\n",
    "lre = torch.linspace(-3, 0, 10_000) # the last 10_000 should match number of epochs\n",
    "lrs = 10 ** lre\n",
    "lri = []\n",
    "lossi = []\n",
    "stepi = []"
   ]
  },
  {
   "cell_type": "code",
   "execution_count": null,
   "id": "ff64613c-c9a1-427d-9c76-9aa0e2963eac",
   "metadata": {},
   "outputs": [],
   "source": [
    "### training phase\n",
    "for i in range(10_000):\n",
    "    # minibatch\n",
    "    ix = torch.randint(0, X_train.shape[0], (batch_size, ))\n",
    "    \n",
    "    # forward pass\n",
    "    emb = C[X_train[ix]] # (batch_size, block_size, emb_size)\n",
    "    h = torch.tanh(emb.view(-1, block_size * emb_size) @ W1 + b1) # (batch_size, nneurons)\n",
    "    logits = h @ W2 + b2 # (batch_size, vocab_size)\n",
    "    loss = F.cross_entropy(logits, y_train[ix])\n",
    "\n",
    "    # backward pass\n",
    "    for p in params:\n",
    "        p.grad = None\n",
    "    loss.backward()\n",
    "\n",
    "    # update parameters\n",
    "    # lr = lrs[i]\n",
    "    # stats have shown that learning rate at 0.5\n",
    "    lr = 10 ** (-0.5)\n",
    "    for p in params:\n",
    "        p.data += -0.1 * p.grad\n",
    "\n",
    "    # tracking stats\n",
    "    # lri.append(lre[i])\n",
    "    # stepi.append(i)\n",
    "    # lossi.append(loss.log10().item())\n",
    "print(loss.item())"
   ]
  },
  {
   "cell_type": "code",
   "execution_count": null,
   "id": "7fead98b-e6cc-47d7-a497-19274aa40752",
   "metadata": {},
   "outputs": [],
   "source": [
    "plt.plot(lri, lossi)"
   ]
  },
  {
   "cell_type": "code",
   "execution_count": null,
   "id": "4af43a90-b800-4135-8a78-81018dad8cfe",
   "metadata": {},
   "outputs": [],
   "source": [
    "# training loss\n",
    "emb = C[X_train]block_size\n",
    "h = torch.tanh(emb.view(-1, block_size * emb_size) @ W1 + b1)\n",
    "logits = h @ W2 + b2\n",
    "loss = F.cross_entropy(logits, y_train)\n",
    "loss"
   ]
  },
  {
   "cell_type": "code",
   "execution_count": null,
   "id": "7f0e57ee-162a-4fd1-8dbb-36df7a544805",
   "metadata": {},
   "outputs": [],
   "source": [
    "# validation loss\n",
    "emb = C[X_dev]\n",
    "h = torch.tanh(emb.view(-1, block_size * emb_size) @ W1 + b1)\n",
    "logits = h @ W2 + b2\n",
    "loss = F.cross_entropy(logits, y_dev)\n",
    "loss"
   ]
  },
  {
   "cell_type": "code",
   "execution_count": null,
   "id": "7dda4069-06ff-40e4-8005-6ed86da34176",
   "metadata": {},
   "outputs": [],
   "source": [
    "# testing loss\n",
    "emb = C[X_test]\n",
    "h = torch.tanh(emb.view(-1, block_size * emb_size) @ W1 + b1)\n",
    "logits = h @ W2 + b2\n",
    "loss = F.cross_entropy(logits, y_test)\n",
    "loss"
   ]
  },
  {
   "cell_type": "code",
   "execution_count": null,
   "id": "af7d5c50-6406-44aa-8018-b1cc44716ad0",
   "metadata": {},
   "outputs": [],
   "source": [
    "plt.figure(figsize=(8, 8))\n",
    "plt.scatter(C[:,0].data, C[:,1].data, s=200)\n",
    "for i in range(C.shape[0]):\n",
    "    plt.text(C[i,0].item(), C[i,1].item(), itos[i], ha='center', va='center', color='white')\n",
    "plt.grid()"
   ]
  },
  {
   "cell_type": "code",
   "execution_count": null,
   "id": "5c34d080-9b9f-4e00-a546-6c3aedb4ec4a",
   "metadata": {},
   "outputs": [],
   "source": [
    "### sample from the model\n",
    "for _ in range(20):\n",
    "    word = []\n",
    "    context = [0] * block_size\n",
    "    while True:\n",
    "        emb = C[torch.tensor([context])]\n",
    "        h = torch.tanh(emb.view(1, -1) @ W1 + b1)\n",
    "        logits = h @ W2 + b2\n",
    "        probs = F.softmax(logits, dim=1)\n",
    "        ix = torch.multinomial(probs, num_samples=1, generator=g).item()\n",
    "        context = context[1:] + [ix]\n",
    "        word.append(ix)\n",
    "        if ix == 0:\n",
    "            break\n",
    "    print('generated word:', ''.join(itos[i] for i in word))"
   ]
  },
  {
   "cell_type": "code",
   "execution_count": null,
   "id": "775896b8-a1c5-472a-89cf-9f8bb3117536",
   "metadata": {},
   "outputs": [],
   "source": [
    "C[]"
   ]
  },
  {
   "cell_type": "code",
   "execution_count": null,
   "id": "6acc2d02-1bca-403c-8407-e4de07d8ec05",
   "metadata": {},
   "outputs": [],
   "source": []
  }
 ],
 "metadata": {
  "kernelspec": {
   "display_name": "Python 3 (ipykernel)",
   "language": "python",
   "name": "python3"
  },
  "language_info": {
   "codemirror_mode": {
    "name": "ipython",
    "version": 3
   },
   "file_extension": ".py",
   "mimetype": "text/x-python",
   "name": "python",
   "nbconvert_exporter": "python",
   "pygments_lexer": "ipython3",
   "version": "3.11.8"
  }
 },
 "nbformat": 4,
 "nbformat_minor": 5
}
