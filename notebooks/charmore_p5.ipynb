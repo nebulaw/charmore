{
 "cells": [
  {
   "cell_type": "code",
   "execution_count": 5,
   "id": "50d3205f-d50c-49a4-ad6b-a34062eb46c9",
   "metadata": {},
   "outputs": [],
   "source": [
    "import os\n",
    "import random\n",
    "import torch\n",
    "from torch import Generator\n",
    "from torch.nn import functional as F\n",
    "from tqdm import trange, tqdm\n",
    "import matplotlib.pyplot as plt\n",
    "%matplotlib inline"
   ]
  },
  {
   "cell_type": "code",
   "execution_count": 8,
   "id": "1034352d-7537-4a7d-9e16-47fb6069ede5",
   "metadata": {},
   "outputs": [],
   "source": [
    "def read_words(file_path):\n",
    "    with open(file_path, 'r') as file:\n",
    "        words = set([ word.lower() for word in file.read().splitlines() if word.isalpha() ])\n",
    "        file.close()\n",
    "    return list(words)"
   ]
  },
  {
   "cell_type": "code",
   "execution_count": 15,
   "id": "23ca5960-77b4-4244-bcb0-929fad2d40f5",
   "metadata": {},
   "outputs": [
    {
     "name": "stdout",
     "output_type": "stream",
     "text": [
      "total words: 314532\n"
     ]
    }
   ],
   "source": [
    "# read words\n",
    "words = read_words('../geowords.txt')\n",
    "print(f'total words: {len(words)}')"
   ]
  },
  {
   "cell_type": "code",
   "execution_count": 16,
   "id": "a034d617-f976-45c6-bf38-335d5ad46afc",
   "metadata": {},
   "outputs": [
    {
     "name": "stdout",
     "output_type": "stream",
     "text": [
      "vocab size: 34\n",
      "vocab: ['ა', 'ბ', 'გ', 'დ', 'ე', 'ვ', 'ზ', 'თ', 'ი', 'კ', 'ლ', 'მ', 'ნ', 'ო', 'პ', 'ჟ', 'რ', 'ს', 'ტ', 'უ', 'ფ', 'ქ', 'ღ', 'ყ', 'შ', 'ჩ', 'ც', 'ძ', 'წ', 'ჭ', 'ხ', 'ჯ', 'ჰ', '.']\n"
     ]
    }
   ],
   "source": [
    "# prepare vocabulary\n",
    "chars = sorted(list(set(''.join(words))))\n",
    "stoi = { s:i+1 for i, s in enumerate(chars) }\n",
    "stoi['.'] = 0\n",
    "itos = { i:s for s, i in stoi.items() }\n",
    "vocab_size = len(stoi)\n",
    "print(f'vocab size: {vocab_size}')\n",
    "print(f'vocab: {[s for s, _ in stoi.items()]}')"
   ]
  },
  {
   "cell_type": "code",
   "execution_count": 17,
   "id": "4f058e9f-1efa-419f-b8f8-93a0cc82c168",
   "metadata": {},
   "outputs": [],
   "source": [
    "random.seed(42069)\n",
    "random.shuffle(words)"
   ]
  },
  {
   "cell_type": "code",
   "execution_count": 19,
   "id": "fbf404cd-4d61-4d69-a8db-631c83ebdcf8",
   "metadata": {},
   "outputs": [
    {
     "name": "stdout",
     "output_type": "stream",
     "text": [
      "---- training set ----\n",
      "input shape: torch.Size([2556170, 3])\n",
      "label shape: torch.Size([2556170])\n",
      "total samples: 2556170\n",
      "---- validation set ----\n",
      "input shape: torch.Size([319614, 3])\n",
      "label shape: torch.Size([319614])\n",
      "total samples: 319614\n",
      "---- testing set ----\n",
      "input shape: torch.Size([319435, 3])\n",
      "label shape: torch.Size([319435])\n",
      "total samples: 319435\n"
     ]
    }
   ],
   "source": [
    "# build dataset of words\n",
    "block_size = 3\n",
    "def build_dataset(words_set):\n",
    "    X, Y = [], []\n",
    "    for word in words_set:\n",
    "        context = [0] * block_size\n",
    "        for ch in word + '.':\n",
    "            ix = stoi[ch]\n",
    "            X.append(context)\n",
    "            Y.append(ix)\n",
    "            context = context[1:] + [ix]\n",
    "    X = torch.tensor(X)\n",
    "    Y = torch.tensor(Y)\n",
    "    return X, Y\n",
    "\n",
    "n1 = int(0.8 * len(words))\n",
    "n2 = int(0.9 * len(words))\n",
    "X_train, y_train = build_dataset(words[:n1])\n",
    "X_dev, y_dev = build_dataset(words[n1:n2])\n",
    "X_test, y_test = build_dataset(words[n2:])\n",
    "\n",
    "print(f'---- training set ----')\n",
    "print(f'input shape: {X_train.shape}')\n",
    "print(f'label shape: {y_train.shape}')\n",
    "print(f'total samples: {X_train.shape[0]}')\n",
    "print(f'---- validation set ----')\n",
    "print(f'input shape: {X_dev.shape}')\n",
    "print(f'label shape: {y_dev.shape}')\n",
    "print(f'total samples: {X_dev.shape[0]}')\n",
    "print(f'---- testing set ----')\n",
    "print(f'input shape: {X_test.shape}')\n",
    "print(f'label shape: {y_test.shape}')\n",
    "print(f'total samples: {X_test.shape[0]}')"
   ]
  },
  {
   "cell_type": "code",
   "execution_count": 36,
   "id": "3040f9f0-9c5c-40df-8c89-82bd38499da6",
   "metadata": {},
   "outputs": [],
   "source": [
    "class Module:\n",
    "    def __call__(self, x):\n",
    "        return self.forward(x)\n",
    "    def forward(self, x):\n",
    "        raise NotImplementedError\n",
    "    def params(self):\n",
    "        raise NotImplementedError\n",
    "    \n",
    "class Linear(Module):\n",
    "    def __init__(self, fan_in, fan_out, bias=True):\n",
    "        self.weights = torch.randn((fan_in, fan_out), generator=g) / fan_in**0.5\n",
    "        self.bias = torch.zeros(fan_out) if bias else None\n",
    "    def forward(self, x):\n",
    "        self.out = x @ self.weights\n",
    "        if self.bias is not None: self.out += self.bias\n",
    "        return self.out\n",
    "    def params(self):\n",
    "        return [self.weights] + ([self.bias] if self.bias is not None else [])\n",
    "\n",
    "class BatchNorm1d(Module):\n",
    "    def __init__(self, dim, eps=1e-5, momentum=0.1):\n",
    "        self.eps = eps\n",
    "        self.momentum = momentum\n",
    "        self.training = True\n",
    "        # this are the parameters to adjust, tweak\n",
    "        # and shift normalized data. gamma is a\n",
    "        # scalar value and beta is a shifter.\n",
    "        self.gamma = torch.ones(dim)\n",
    "        self.beta = torch.zeros(dim)\n",
    "        # buffers (trained with a running 'momentum update')\n",
    "        self.running_mean = torch.zeros(dim)\n",
    "        self.running_var = torch.ones(dim)\n",
    "    def forward(self, x):\n",
    "        # if nn is in training mode we calculate batch\n",
    "        # mean and variance. else if testing or evaluating\n",
    "        # we need running mean and variance\n",
    "        if self.training:\n",
    "            xmean = x.mean(0, keepdim=True)\n",
    "            xvar = x.var(0, keepdim=True, ubiased=True)\n",
    "        else:\n",
    "            xmean = self.running_mean\n",
    "            xvar = self.running_var\n",
    "        xhat = (x - xmean) / torch.sqrt(xvar + self.eps)\n",
    "        self.out = self.gamma * xhat + self.beta\n",
    "        # in training mode, we have to update buffers\n",
    "        if self.training:\n",
    "            with torch.no_grad():\n",
    "                self.running_mean = (1 - self.momentum) * self.running_mean + self.momentum * xmean\n",
    "                self.running_var = (1 - self.momentum) * self.running_var + self.momentum * xvar\n",
    "        return self.out\n",
    "    def params(self):\n",
    "        return [self.gamma, self.beta]\n",
    "\n",
    "class Tanh(Module):\n",
    "    def forward(self, x):\n",
    "        self.out = torch.tanh(x)\n",
    "        return self.out\n",
    "    def params(self):\n",
    "        return []"
   ]
  },
  {
   "cell_type": "code",
   "execution_count": 49,
   "id": "72a7907d-5a55-42b5-a465-bb44fed875da",
   "metadata": {},
   "outputs": [
    {
     "name": "stdout",
     "output_type": "stream",
     "text": [
      "number of parameters: 37174\n"
     ]
    }
   ],
   "source": [
    "# preparing neural network\n",
    "n_embd = 10\n",
    "n_hidden = 100\n",
    "g = Generator().manual_seed(1337)\n",
    "\n",
    "C = torch.randn((vocab_size, n_embd))\n",
    "layers = [\n",
    "    Linear(n_embd * block_size, n_hidden), Tanh(),\n",
    "    Linear(n_hidden, n_hidden), Tanh(),\n",
    "    Linear(n_hidden, n_hidden), Tanh(),\n",
    "    Linear(n_hidden, n_hidden), Tanh(),\n",
    "    Linear(n_hidden, vocab_size)\n",
    "]\n",
    "\n",
    "with torch.no_grad():\n",
    "    layers[-1].weights *= 0.1\n",
    "    # we should apply gain for other \n",
    "    for layer in layers[:-1]:\n",
    "        if isinstance(layer, Linear):\n",
    "            layer.weights *= 5/3\n",
    "\n",
    "params = [C] + [p for layer in layers for p in layer.params()]\n",
    "print(f\"number of parameters: {sum([p.nelement() for p in params])}\")\n",
    "for p in params:\n",
    "    p.requires_grad = True"
   ]
  },
  {
   "cell_type": "code",
   "execution_count": 50,
   "id": "46d5d679-77ee-4c93-9f04-ed9ed1cf8122",
   "metadata": {},
   "outputs": [
    {
     "name": "stdout",
     "output_type": "stream",
     "text": [
      "step: 5000; loss: 2.1081\n",
      "step: 10000; loss: 2.2333\n",
      "step: 15000; loss: 2.4388\n",
      "step: 20000; loss: 2.1796\n",
      "step: 25000; loss: 2.4549\n",
      "step: 30000; loss: 2.4319\n",
      "step: 35000; loss: 2.3857\n",
      "step: 40000; loss: 2.2976\n",
      "step: 45000; loss: 2.3065\n",
      "step: 50000; loss: 2.0398\n",
      "step: 55000; loss: 2.5996\n",
      "step: 60000; loss: 2.2533\n",
      "step: 65000; loss: 2.3223\n",
      "step: 70000; loss: 2.3406\n",
      "step: 75000; loss: 1.8335\n",
      "step: 80000; loss: 2.1736\n",
      "step: 85000; loss: 2.3374\n",
      "step: 90000; loss: 2.2884\n",
      "step: 95000; loss: 2.2115\n",
      "step: 100000; loss: 2.4658\n",
      "step: 105000; loss: 2.0801\n",
      "step: 110000; loss: 2.2860\n",
      "step: 115000; loss: 2.0587\n",
      "step: 120000; loss: 2.2696\n",
      "step: 125000; loss: 2.3074\n",
      "step: 130000; loss: 2.2627\n",
      "step: 135000; loss: 2.2788\n",
      "step: 140000; loss: 1.8905\n",
      "step: 145000; loss: 2.3200\n",
      "step: 150000; loss: 2.2631\n",
      "step: 155000; loss: 2.0632\n",
      "step: 160000; loss: 2.4449\n",
      "step: 165000; loss: 2.2556\n",
      "step: 170000; loss: 2.5258\n",
      "step: 175000; loss: 2.1653\n",
      "step: 180000; loss: 2.1036\n",
      "step: 185000; loss: 2.4070\n",
      "step: 190000; loss: 2.0655\n",
      "step: 195000; loss: 2.2755\n",
      "step: 200000; loss: 1.9271\n"
     ]
    }
   ],
   "source": [
    "# training phase\n",
    "max_steps = 200_000\n",
    "batch_size = 64\n",
    "lossi = []\n",
    "\n",
    "for i in range(1, max_steps + 1):\n",
    "    # batch construct\n",
    "    ix = torch.randint(0, X_train.shape[0], (batch_size, ), generator=g)\n",
    "    X_batch, y_batch = X_train[ix], y_train[ix]\n",
    "\n",
    "    # forward pass\n",
    "    emb = C[X_batch]\n",
    "    # flatten embedded matrix\n",
    "    x = emb.view(emb.shape[0], -1)\n",
    "    for layer in layers:\n",
    "        x = layer(x)\n",
    "    loss = F.cross_entropy(x, y_batch)\n",
    "\n",
    "    # backward pass\n",
    "    for layer in layers:\n",
    "        layer.out.retain_grad()\n",
    "    for param in params:\n",
    "        param.grad = None\n",
    "    loss.backward()\n",
    "\n",
    "    # update params\n",
    "    lr = 0.1 if i < 100_000 else 0.01\n",
    "    for param in params:\n",
    "        param.data += -lr * param.grad\n",
    "\n",
    "    # tracking\n",
    "    if i % 5_000 == 0:\n",
    "        print(f'step: {i}; loss: {loss.item():.4f}')\n",
    "    lossi.append(loss.log10().item())"
   ]
  }
 ],
 "metadata": {
  "kernelspec": {
   "display_name": "Python 3 (ipykernel)",
   "language": "python",
   "name": "python3"
  },
  "language_info": {
   "codemirror_mode": {
    "name": "ipython",
    "version": 3
   },
   "file_extension": ".py",
   "mimetype": "text/x-python",
   "name": "python",
   "nbconvert_exporter": "python",
   "pygments_lexer": "ipython3",
   "version": "3.11.8"
  }
 },
 "nbformat": 4,
 "nbformat_minor": 5
}
