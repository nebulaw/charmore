{
 "cells": [
  {
   "cell_type": "code",
   "execution_count": null,
   "id": "c52482ab-6ab2-4334-912d-77d49126272d",
   "metadata": {},
   "outputs": [],
   "source": [
    "import random\n",
    "import os\n",
    "from tqdm import trange, tqdm\n",
    "import torch\n",
    "import torch.nn.functional as F\n",
    "import matplotlib.pyplot as plt\n",
    "%matplotlib inline"
   ]
  },
  {
   "cell_type": "code",
   "execution_count": null,
   "id": "7b5be765-46c1-4352-876e-937804c48060",
   "metadata": {},
   "outputs": [],
   "source": [
    "def read_words(file_path):\n",
    "    def clean(word):\n",
    "        return ''.join(filter(str.isalpha, word)).lower()\n",
    "    with open(file_path, 'r') as file:\n",
    "        words = [ clean(word) for word in file.read().splitlines() ]\n",
    "        file.close()\n",
    "    return words"
   ]
  },
  {
   "cell_type": "code",
   "execution_count": null,
   "id": "72a025da-4684-41ba-bc23-e438ad2a1248",
   "metadata": {},
   "outputs": [],
   "source": [
    "### initializing dataset\n",
    "S = read_words('../geowords.txt')\n",
    "print(f'total words: {len(S)}')"
   ]
  },
  {
   "cell_type": "code",
   "execution_count": null,
   "id": "ceb28790-0e3b-465c-bdec-d4e3d2c9fa28",
   "metadata": {},
   "outputs": [],
   "source": [
    "### set vocabulary mappings\n",
    "chars = sorted(list(set(''.join(S))))\n",
    "stoi = { s: i + 1 for i, s in enumerate(chars) }\n",
    "stoi['.'] = 0\n",
    "itos = { i: s for s, i in stoi.items() }\n",
    "vocab_size = len(stoi) # this is vocabulary size\n",
    "len(itos), len(stoi)"
   ]
  },
  {
   "cell_type": "code",
   "execution_count": null,
   "id": "50819887-2348-48d0-acc3-402b2ec1e3c2",
   "metadata": {},
   "outputs": [],
   "source": [
    "# randomize dataset\n",
    "random.seed(42069)\n",
    "random.shuffle(S)\n",
    "len(S)"
   ]
  },
  {
   "cell_type": "code",
   "execution_count": null,
   "id": "deff696b-9c0c-4a07-8359-676307b1a806",
   "metadata": {},
   "outputs": [],
   "source": [
    "### build dataset\n",
    "block_size = 3 # this is how much will there be in each context\n",
    "\n",
    "def build_dataset(words):\n",
    "    X, Y = [], []\n",
    "    for word in words:\n",
    "        context = [0] * block_size\n",
    "        for ch in word + '.':\n",
    "            ix = stoi[ch]\n",
    "            X.append(context)\n",
    "            Y.append(ix)\n",
    "            context = context[1:] + [ix]\n",
    "    X = torch.tensor(X)\n",
    "    Y = torch.tensor(Y)\n",
    "    return X, Y\n",
    "\n",
    "n1 = int(0.8 * len(S))\n",
    "n2 = int(0.9 * len(S))\n",
    "X_train, y_train = build_dataset(S[:n1])\n",
    "X_dev, y_dev = build_dataset(S[n1:n2])\n",
    "X_test, y_test = build_dataset(S[n2:])\n",
    "\n",
    "print(f'---- training set ----')\n",
    "print(f'input shape: {X_train.shape}')\n",
    "print(f'label shape: {y_train.shape}')\n",
    "print(f'total samples: {X_train.shape[0]}')\n",
    "print(f'---- validation set ----')\n",
    "print(f'input shape: {X_dev.shape}')\n",
    "print(f'label shape: {y_dev.shape}')\n",
    "print(f'total samples: {X_dev.shape[0]}')\n",
    "print(f'---- testing set ----')\n",
    "print(f'input shape: {X_test.shape}')\n",
    "print(f'label shape: {y_test.shape}')\n",
    "print(f'total samples: {X_test.shape[0]}')"
   ]
  },
  {
   "cell_type": "code",
   "execution_count": null,
   "id": "95432e27-94a2-4006-bdc9-89920afd1b40",
   "metadata": {},
   "outputs": [],
   "source": [
    "### neural network layers\n",
    "nneurons = 300 # number of neurons in hidden layer\n",
    "emb_size = 10 # this is how we will embed contexts\n",
    "\n",
    "g = torch.Generator().manual_seed(42069)\n",
    "# this is lookup table\n",
    "C = torch.randn((vocab_size, emb_size),             generator=g)\n",
    "W1 = torch.randn((block_size * emb_size, nneurons), generator=g) * (5/3) / (block_size * emb_size)**0.5\n",
    "# b1 = torch.randn(nneurons,                          generator=g) * 0.01\n",
    "W2 = torch.randn((nneurons, vocab_size),            generator=g) * 0.01\n",
    "b2 = torch.randn(vocab_size,                        generator=g) * 0.0\n",
    "\n",
    "# batch normalization parameters\n",
    "bngain = torch.ones((1, nneurons))\n",
    "bnbias = torch.zeros((1, nneurons))\n",
    "bnmean_running = torch.zeros((1, nneurons))\n",
    "bnstd_running = torch.ones((1, nneurons))\n",
    "\n",
    "params = [C, W1, W2, b2, bngain, bnbias,] # b1,]\n",
    "for p in params:\n",
    "    p.requires_grad = True\n",
    "nparams = sum(p.nelement() for p in params)\n",
    "\n",
    "print(f'---- neural network ----')\n",
    "print(f'number of parameters: {nparams}')"
   ]
  },
  {
   "cell_type": "code",
   "execution_count": null,
   "id": "3615cae1-9f70-4cc7-ac15-e8de5f73f4e8",
   "metadata": {},
   "outputs": [],
   "source": [
    "batch_size = 32 # for minibatch\n",
    "max_steps = 20_00\n",
    "lossi = []\n",
    "\n",
    "# for i in tqdm(range(max_steps + 1), desc=\"training\", unit_scale=True):\n",
    "for i in range(1, max_steps + 1):\n",
    "\n",
    "    # minibatch construct\n",
    "    ix = torch.randint(0, X_train.shape[0], (batch_size, ), generator=g)\n",
    "    X_batch, y_batch = X_train[ix], y_train[ix]\n",
    "\n",
    "    # forward pass\n",
    "    # flatten embedded block\n",
    "    emb = C[X_batch]\n",
    "    embcat = emb.view(emb.shape[0], -1)\n",
    "    # ---------- Linear Layer -------------- \n",
    "    # this is hidden layer, pre-activations\n",
    "    hpreact = embcat @ W1 # + b1\n",
    "    # ----------- BatchNorm ----------------\n",
    "    # when using bias in batch normalization layer effect won't be noticable\n",
    "    # after normalizing the batch, so we remove bias\n",
    "    # batch normalization is itself a bias\n",
    "    bnmeani = hpreact.mean(0, keepdim=True)\n",
    "    bnstdi = hpreact.std(0, keepdim=True)\n",
    "    hpreact = bngain * (hpreact - bnmeani) / bnstdi + bnbias\n",
    "    with torch.no_grad():\n",
    "        bnmean_running = 0.999 * bnmean_running + 0.001 * bnmeani\n",
    "        bnstd_running = 0.999 * bnstd_running + 0.001 * bnstdi\n",
    "    # ----------- Non-Linear Layer --------\n",
    "    h = torch.tanh(hpreact)\n",
    "    logits = h @ W2 + b2\n",
    "    loss = F.cross_entropy(logits, y_batch)\n",
    "\n",
    "    # --------- Backpropagation -----------\n",
    "    for p in params:\n",
    "        p.grad = None\n",
    "    loss.backward()\n",
    "\n",
    "    # udpate\n",
    "    lr = 0.1 if i < 100_000 else 0.01 # this is laerning rate decay\n",
    "    for p in params:\n",
    "        p.data += -lr * p.grad\n",
    "\n",
    "    # track stats\n",
    "    if i % 10_000 == 0:\n",
    "        print(f'{i:6d}/{max_steps:6d}: {loss.item():.4f}')\n",
    "    lossi.append(loss.item())   \n",
    "\n",
    "    # break\n",
    "loss.item()"
   ]
  },
  {
   "cell_type": "code",
   "execution_count": null,
   "id": "d504dd2a-3a99-4f81-be97-c03f0091feb2",
   "metadata": {},
   "outputs": [],
   "source": [
    "@torch.no_grad()\n",
    "def split_loss(split):\n",
    "    x, y = {\n",
    "        'train': (X_train, y_train),\n",
    "        'val': (X_dev, y_dev),\n",
    "        'test': (X_test, y_test),\n",
    "    }[split]\n",
    "    emb = C[x]\n",
    "    embcat = emb.view(emb.shape[0], -1)\n",
    "    hpreact = embcat @ W1 + b1\n",
    "    hpreact = bngain * (hpreact - bnmean) / bnstd + bnbias\n",
    "    h = torch.tanh(hpreact)\n",
    "    logits = h @ W2 + b2\n",
    "    loss = F.cross_entropy(logits, y)\n",
    "    print(split, loss.item())"
   ]
  },
  {
   "cell_type": "code",
   "execution_count": null,
   "id": "d6ab884f-8d90-474c-a5c9-f8c919a8af9e",
   "metadata": {},
   "outputs": [],
   "source": [
    "split_loss('val')"
   ]
  },
  {
   "cell_type": "code",
   "execution_count": null,
   "id": "6cdc2842-6473-4d21-ab5c-6da44b4a4f45",
   "metadata": {},
   "outputs": [],
   "source": [
    "split_loss('test')"
   ]
  }
 ],
 "metadata": {
  "kernelspec": {
   "display_name": "Python 3 (ipykernel)",
   "language": "python",
   "name": "python3"
  },
  "language_info": {
   "codemirror_mode": {
    "name": "ipython",
    "version": 3
   },
   "file_extension": ".py",
   "mimetype": "text/x-python",
   "name": "python",
   "nbconvert_exporter": "python",
   "pygments_lexer": "ipython3",
   "version": "3.11.8"
  }
 },
 "nbformat": 4,
 "nbformat_minor": 5
}
